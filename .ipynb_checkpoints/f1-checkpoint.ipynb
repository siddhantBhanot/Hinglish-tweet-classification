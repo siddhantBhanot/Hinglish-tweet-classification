{
 "cells": [
  {
   "cell_type": "code",
   "execution_count": 31,
   "metadata": {},
   "outputs": [],
   "source": [
    "import pandas as pd\n",
    "import numpy as np"
   ]
  },
  {
   "cell_type": "code",
   "execution_count": 32,
   "metadata": {},
   "outputs": [],
   "source": [
    "df1 = pd.read_excel(r'C:\\Users\\siddh\\OneDrive\\Desktop\\Minor Project\\TRAC 2 back_trans\\FinalEngDevTrac2_BackTran.xlsx',index_col = 0 )"
   ]
  },
  {
   "cell_type": "code",
   "execution_count": 36,
   "metadata": {},
   "outputs": [],
   "source": [
    "df2 = pd.read_excel(r'C:\\Users\\siddh\\OneDrive\\Desktop\\Minor Project\\TRAC 2 back_trans\\FinalEngTrainTrac2_BackTran.xlsx',index_col = 0)"
   ]
  },
  {
   "cell_type": "code",
   "execution_count": 38,
   "metadata": {},
   "outputs": [],
   "source": [
    "df3 = pd.read_excel(r'C:\\Users\\siddh\\OneDrive\\Desktop\\Minor Project\\TRAC 2 back_trans\\FinalHinDevTrac2_BackTran.xlsx',index_col = 0)"
   ]
  },
  {
   "cell_type": "code",
   "execution_count": 40,
   "metadata": {},
   "outputs": [],
   "source": [
    "df4 = pd.read_excel(r'C:\\Users\\siddh\\OneDrive\\Desktop\\Minor Project\\TRAC 2 back_trans\\FinalHinTrainTrac2_BackTran.xlsx',index_col = 0)"
   ]
  },
  {
   "cell_type": "code",
   "execution_count": 49,
   "metadata": {},
   "outputs": [
    {
     "data": {
      "text/plain": [
       "CAG    2453\n",
       "NAG    2245\n",
       "OAG    1820\n",
       "Name: Sub-task A, dtype: int64"
      ]
     },
     "execution_count": 49,
     "metadata": {},
     "output_type": "execute_result"
    }
   ],
   "source": [
    "df4['Sub-task A'].value_counts()"
   ]
  },
  {
   "cell_type": "code",
   "execution_count": null,
   "metadata": {},
   "outputs": [],
   "source": []
  }
 ],
 "metadata": {
  "kernelspec": {
   "display_name": "Python 3",
   "language": "python",
   "name": "python3"
  },
  "language_info": {
   "codemirror_mode": {
    "name": "ipython",
    "version": 3
   },
   "file_extension": ".py",
   "mimetype": "text/x-python",
   "name": "python",
   "nbconvert_exporter": "python",
   "pygments_lexer": "ipython3",
   "version": "3.8.5"
  }
 },
 "nbformat": 4,
 "nbformat_minor": 4
}
