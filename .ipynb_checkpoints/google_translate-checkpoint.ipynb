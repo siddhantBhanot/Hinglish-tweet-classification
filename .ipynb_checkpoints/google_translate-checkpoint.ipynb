{
 "cells": [
  {
   "cell_type": "code",
   "execution_count": 1,
   "metadata": {},
   "outputs": [],
   "source": [
    "# !pip install git+git://github.com/irshadbhat/indic-trans.git"
   ]
  },
  {
   "cell_type": "code",
   "execution_count": 2,
   "metadata": {},
   "outputs": [],
   "source": [
    "# !pip uninstall googletrans"
   ]
  },
  {
   "cell_type": "code",
   "execution_count": 4,
   "metadata": {},
   "outputs": [],
   "source": [
    "# !pip install googletrans==3.1.0a0"
   ]
  },
  {
   "cell_type": "code",
   "execution_count": 62,
   "metadata": {
    "scrolled": true
   },
   "outputs": [],
   "source": [
    "from indictrans import Transliterator\n",
    "from googletrans import Translator"
   ]
  },
  {
   "cell_type": "code",
   "execution_count": 63,
   "metadata": {},
   "outputs": [],
   "source": [
    "import numpy as np\n",
    "import pandas as pd"
   ]
  },
  {
   "cell_type": "code",
   "execution_count": 64,
   "metadata": {},
   "outputs": [],
   "source": [
    "df = pd.read_csv(r'C:\\Users\\siddh\\OneDrive\\Desktop\\Minor Project\\Aggression annotated Corpus of Hinglish\\hindi_train.tar\\hindi_train\\hindi\\agr_hi_dev.csv', header = None)"
   ]
  },
  {
   "cell_type": "code",
   "execution_count": 65,
   "metadata": {},
   "outputs": [
    {
     "data": {
      "text/html": [
       "<div>\n",
       "<style scoped>\n",
       "    .dataframe tbody tr th:only-of-type {\n",
       "        vertical-align: middle;\n",
       "    }\n",
       "\n",
       "    .dataframe tbody tr th {\n",
       "        vertical-align: top;\n",
       "    }\n",
       "\n",
       "    .dataframe thead th {\n",
       "        text-align: right;\n",
       "    }\n",
       "</style>\n",
       "<table border=\"1\" class=\"dataframe\">\n",
       "  <thead>\n",
       "    <tr style=\"text-align: right;\">\n",
       "      <th></th>\n",
       "      <th>0</th>\n",
       "      <th>1</th>\n",
       "      <th>2</th>\n",
       "    </tr>\n",
       "  </thead>\n",
       "  <tbody>\n",
       "    <tr>\n",
       "      <th>0</th>\n",
       "      <td>facebook_corpus_msr_333008</td>\n",
       "      <td>RANDTV tumhare najayaz baap is area hai ki wah...</td>\n",
       "      <td>OAG</td>\n",
       "    </tr>\n",
       "    <tr>\n",
       "      <th>1</th>\n",
       "      <td>facebook_corpus_msr_690306</td>\n",
       "      <td>First stage par dus jootey khaye Grover  se</td>\n",
       "      <td>OAG</td>\n",
       "    </tr>\n",
       "    <tr>\n",
       "      <th>2</th>\n",
       "      <td>facebook_corpus_msr_382520</td>\n",
       "      <td>Salman aur aamir ki kounsi movie release huyee...</td>\n",
       "      <td>OAG</td>\n",
       "    </tr>\n",
       "    <tr>\n",
       "      <th>3</th>\n",
       "      <td>facebook_corpus_msr_401748</td>\n",
       "      <td>Wk aur bhakt aa gya.  Abe americans ka bolna h...</td>\n",
       "      <td>CAG</td>\n",
       "    </tr>\n",
       "    <tr>\n",
       "      <th>4</th>\n",
       "      <td>facebook_corpus_msr_656339</td>\n",
       "      <td>Beta to tu apne baap ka hai ...permission to t...</td>\n",
       "      <td>NAG</td>\n",
       "    </tr>\n",
       "  </tbody>\n",
       "</table>\n",
       "</div>"
      ],
      "text/plain": [
       "                            0  \\\n",
       "0  facebook_corpus_msr_333008   \n",
       "1  facebook_corpus_msr_690306   \n",
       "2  facebook_corpus_msr_382520   \n",
       "3  facebook_corpus_msr_401748   \n",
       "4  facebook_corpus_msr_656339   \n",
       "\n",
       "                                                   1    2  \n",
       "0  RANDTV tumhare najayaz baap is area hai ki wah...  OAG  \n",
       "1        First stage par dus jootey khaye Grover  se  OAG  \n",
       "2  Salman aur aamir ki kounsi movie release huyee...  OAG  \n",
       "3  Wk aur bhakt aa gya.  Abe americans ka bolna h...  CAG  \n",
       "4  Beta to tu apne baap ka hai ...permission to t...  NAG  "
      ]
     },
     "execution_count": 65,
     "metadata": {},
     "output_type": "execute_result"
    }
   ],
   "source": [
    "df.head()"
   ]
  },
  {
   "cell_type": "code",
   "execution_count": 66,
   "metadata": {},
   "outputs": [
    {
     "data": {
      "text/plain": [
       "(3001, 3)"
      ]
     },
     "execution_count": 66,
     "metadata": {},
     "output_type": "execute_result"
    }
   ],
   "source": [
    "df.shape"
   ]
  },
  {
   "cell_type": "code",
   "execution_count": 67,
   "metadata": {},
   "outputs": [
    {
     "data": {
      "text/plain": [
       "CAG    1246\n",
       "OAG    1217\n",
       "NAG     538\n",
       "Name: 2, dtype: int64"
      ]
     },
     "execution_count": 67,
     "metadata": {},
     "output_type": "execute_result"
    }
   ],
   "source": [
    "df[2].value_counts()"
   ]
  },
  {
   "cell_type": "code",
   "execution_count": 68,
   "metadata": {},
   "outputs": [
    {
     "data": {
      "text/html": [
       "<div>\n",
       "<style scoped>\n",
       "    .dataframe tbody tr th:only-of-type {\n",
       "        vertical-align: middle;\n",
       "    }\n",
       "\n",
       "    .dataframe tbody tr th {\n",
       "        vertical-align: top;\n",
       "    }\n",
       "\n",
       "    .dataframe thead th {\n",
       "        text-align: right;\n",
       "    }\n",
       "</style>\n",
       "<table border=\"1\" class=\"dataframe\">\n",
       "  <thead>\n",
       "    <tr style=\"text-align: right;\">\n",
       "      <th></th>\n",
       "      <th>0</th>\n",
       "      <th>1</th>\n",
       "      <th>2</th>\n",
       "    </tr>\n",
       "  </thead>\n",
       "  <tbody>\n",
       "    <tr>\n",
       "      <th>0</th>\n",
       "      <td>facebook_corpus_msr_333008</td>\n",
       "      <td>RANDTV tumhare najayaz baap is area hai ki wah...</td>\n",
       "      <td>OAG</td>\n",
       "    </tr>\n",
       "    <tr>\n",
       "      <th>1</th>\n",
       "      <td>facebook_corpus_msr_690306</td>\n",
       "      <td>First stage par dus jootey khaye Grover  se</td>\n",
       "      <td>OAG</td>\n",
       "    </tr>\n",
       "    <tr>\n",
       "      <th>2</th>\n",
       "      <td>facebook_corpus_msr_382520</td>\n",
       "      <td>Salman aur aamir ki kounsi movie release huyee...</td>\n",
       "      <td>OAG</td>\n",
       "    </tr>\n",
       "    <tr>\n",
       "      <th>3</th>\n",
       "      <td>facebook_corpus_msr_401748</td>\n",
       "      <td>Wk aur bhakt aa gya.  Abe americans ka bolna h...</td>\n",
       "      <td>CAG</td>\n",
       "    </tr>\n",
       "    <tr>\n",
       "      <th>4</th>\n",
       "      <td>facebook_corpus_msr_656339</td>\n",
       "      <td>Beta to tu apne baap ka hai ...permission to t...</td>\n",
       "      <td>NAG</td>\n",
       "    </tr>\n",
       "    <tr>\n",
       "      <th>...</th>\n",
       "      <td>...</td>\n",
       "      <td>...</td>\n",
       "      <td>...</td>\n",
       "    </tr>\n",
       "    <tr>\n",
       "      <th>95</th>\n",
       "      <td>facebook_corpus_msr_337385</td>\n",
       "      <td>Is samay bjp k khilaf khari kisi v party me du...</td>\n",
       "      <td>CAG</td>\n",
       "    </tr>\n",
       "    <tr>\n",
       "      <th>96</th>\n",
       "      <td>facebook_corpus_msr_349965</td>\n",
       "      <td>Ara dikhaye gha modi ji apna 56inch ka seena a...</td>\n",
       "      <td>CAG</td>\n",
       "    </tr>\n",
       "    <tr>\n",
       "      <th>97</th>\n",
       "      <td>facebook_corpus_msr_956399</td>\n",
       "      <td>Bilkul sahi sir g</td>\n",
       "      <td>NAG</td>\n",
       "    </tr>\n",
       "    <tr>\n",
       "      <th>98</th>\n",
       "      <td>facebook_corpus_msr_1561856</td>\n",
       "      <td>Kya madam ? Aap ke pita ke saman hain wo vidha...</td>\n",
       "      <td>NAG</td>\n",
       "    </tr>\n",
       "    <tr>\n",
       "      <th>99</th>\n",
       "      <td>facebook_corpus_msr_335112</td>\n",
       "      <td>arendra singh तुम   सिर्फ   हिन्दू  मुस्लिम   ...</td>\n",
       "      <td>CAG</td>\n",
       "    </tr>\n",
       "  </tbody>\n",
       "</table>\n",
       "<p>100 rows × 3 columns</p>\n",
       "</div>"
      ],
      "text/plain": [
       "                              0  \\\n",
       "0    facebook_corpus_msr_333008   \n",
       "1    facebook_corpus_msr_690306   \n",
       "2    facebook_corpus_msr_382520   \n",
       "3    facebook_corpus_msr_401748   \n",
       "4    facebook_corpus_msr_656339   \n",
       "..                          ...   \n",
       "95   facebook_corpus_msr_337385   \n",
       "96   facebook_corpus_msr_349965   \n",
       "97   facebook_corpus_msr_956399   \n",
       "98  facebook_corpus_msr_1561856   \n",
       "99   facebook_corpus_msr_335112   \n",
       "\n",
       "                                                    1    2  \n",
       "0   RANDTV tumhare najayaz baap is area hai ki wah...  OAG  \n",
       "1         First stage par dus jootey khaye Grover  se  OAG  \n",
       "2   Salman aur aamir ki kounsi movie release huyee...  OAG  \n",
       "3   Wk aur bhakt aa gya.  Abe americans ka bolna h...  CAG  \n",
       "4   Beta to tu apne baap ka hai ...permission to t...  NAG  \n",
       "..                                                ...  ...  \n",
       "95  Is samay bjp k khilaf khari kisi v party me du...  CAG  \n",
       "96  Ara dikhaye gha modi ji apna 56inch ka seena a...  CAG  \n",
       "97                                  Bilkul sahi sir g  NAG  \n",
       "98  Kya madam ? Aap ke pita ke saman hain wo vidha...  NAG  \n",
       "99  arendra singh तुम   सिर्फ   हिन्दू  मुस्लिम   ...  CAG  \n",
       "\n",
       "[100 rows x 3 columns]"
      ]
     },
     "execution_count": 68,
     "metadata": {},
     "output_type": "execute_result"
    }
   ],
   "source": [
    "df.head(100)"
   ]
  },
  {
   "cell_type": "code",
   "execution_count": 69,
   "metadata": {},
   "outputs": [],
   "source": [
    "df[1] = df[1].str.strip()"
   ]
  },
  {
   "cell_type": "code",
   "execution_count": 70,
   "metadata": {},
   "outputs": [],
   "source": [
    "df = df.replace('\\n',' ', regex=True)"
   ]
  },
  {
   "cell_type": "code",
   "execution_count": 78,
   "metadata": {},
   "outputs": [],
   "source": [
    "# df.to_csv('hi_dev.csv')"
   ]
  },
  {
   "cell_type": "code",
   "execution_count": 71,
   "metadata": {},
   "outputs": [
    {
     "name": "stdout",
     "output_type": "stream",
     "text": [
      "Salman aur aamir ki kounsi movie release huyee jo aandhi me dub gaye ?? ? बीकाऊ चटुकर मीडिया।\n",
      "\n"
     ]
    }
   ],
   "source": [
    "file1 = open(r'C:\\Users\\siddh\\OneDrive\\Desktop\\Minor Project\\hi_dev.txt', 'r',encoding=\"utf8\")\n",
    "Lines = file1.readlines()\n",
    "rows = []\n",
    "for line in Lines:\n",
    "    rows.append(line)\n",
    "print(rows[2])"
   ]
  },
  {
   "cell_type": "code",
   "execution_count": 72,
   "metadata": {},
   "outputs": [],
   "source": [
    "df2 = pd.DataFrame(rows,columns=['data'])"
   ]
  },
  {
   "cell_type": "code",
   "execution_count": 73,
   "metadata": {},
   "outputs": [
    {
     "data": {
      "text/plain": [
       "'jaise ki Bhartiya Janta Party ka sankalp tha ……।\\n'"
      ]
     },
     "execution_count": 73,
     "metadata": {},
     "output_type": "execute_result"
    }
   ],
   "source": [
    "df2['data'][122]"
   ]
  },
  {
   "cell_type": "code",
   "execution_count": 74,
   "metadata": {},
   "outputs": [],
   "source": [
    "df2 = df2.replace('\\n',' ', regex=True)"
   ]
  },
  {
   "cell_type": "code",
   "execution_count": 75,
   "metadata": {},
   "outputs": [
    {
     "data": {
      "text/html": [
       "<div>\n",
       "<style scoped>\n",
       "    .dataframe tbody tr th:only-of-type {\n",
       "        vertical-align: middle;\n",
       "    }\n",
       "\n",
       "    .dataframe tbody tr th {\n",
       "        vertical-align: top;\n",
       "    }\n",
       "\n",
       "    .dataframe thead th {\n",
       "        text-align: right;\n",
       "    }\n",
       "</style>\n",
       "<table border=\"1\" class=\"dataframe\">\n",
       "  <thead>\n",
       "    <tr style=\"text-align: right;\">\n",
       "      <th></th>\n",
       "      <th>data</th>\n",
       "    </tr>\n",
       "  </thead>\n",
       "  <tbody>\n",
       "    <tr>\n",
       "      <th>0</th>\n",
       "      <td>RANDTV तूम्हारे नजायज बाप है एरिया है का वहा क...</td>\n",
       "    </tr>\n",
       "    <tr>\n",
       "      <th>1</th>\n",
       "      <td>पहिली अवस्था बराबर दु जूटे खाये ग्रोवर से</td>\n",
       "    </tr>\n",
       "    <tr>\n",
       "      <th>2</th>\n",
       "      <td>Salman aur aamir ki kounsi movie release huyee...</td>\n",
       "    </tr>\n",
       "    <tr>\n",
       "      <th>3</th>\n",
       "      <td>Wk aur bhakt आ गया। अबे अमरीकंस का बोलना h ki ...</td>\n",
       "    </tr>\n",
       "    <tr>\n",
       "      <th>4</th>\n",
       "      <td>बीटा टू तू अप्प बाप का है ... तूं मँग वो लया अ...</td>\n",
       "    </tr>\n",
       "    <tr>\n",
       "      <th>...</th>\n",
       "      <td>...</td>\n",
       "    </tr>\n",
       "    <tr>\n",
       "      <th>95</th>\n",
       "      <td>क्या समए bjp k khilaf khari kisi v पार्टी मुझे...</td>\n",
       "    </tr>\n",
       "    <tr>\n",
       "      <th>96</th>\n",
       "      <td>आरा दीखाय ग मोदी जी अपना 56 इंच का सीना एगले च...</td>\n",
       "    </tr>\n",
       "    <tr>\n",
       "      <th>97</th>\n",
       "      <td>बिलकुल साही सर जी</td>\n",
       "    </tr>\n",
       "    <tr>\n",
       "      <th>98</th>\n",
       "      <td>क्या मैडम? Aap ke pita ke saman hain wo vidhay...</td>\n",
       "    </tr>\n",
       "    <tr>\n",
       "      <th>99</th>\n",
       "      <td>arendra singh çed¸२ç®®® à¤ • ° प्रकाशन ¹à ¹ € ...</td>\n",
       "    </tr>\n",
       "  </tbody>\n",
       "</table>\n",
       "<p>100 rows × 1 columns</p>\n",
       "</div>"
      ],
      "text/plain": [
       "                                                 data\n",
       "0   RANDTV तूम्हारे नजायज बाप है एरिया है का वहा क...\n",
       "1          पहिली अवस्था बराबर दु जूटे खाये ग्रोवर से \n",
       "2   Salman aur aamir ki kounsi movie release huyee...\n",
       "3   Wk aur bhakt आ गया। अबे अमरीकंस का बोलना h ki ...\n",
       "4   बीटा टू तू अप्प बाप का है ... तूं मँग वो लया अ...\n",
       "..                                                ...\n",
       "95  क्या समए bjp k khilaf khari kisi v पार्टी मुझे...\n",
       "96  आरा दीखाय ग मोदी जी अपना 56 इंच का सीना एगले च...\n",
       "97                                 बिलकुल साही सर जी \n",
       "98  क्या मैडम? Aap ke pita ke saman hain wo vidhay...\n",
       "99  arendra singh çed¸२ç®®® à¤ • ° प्रकाशन ¹à ¹ € ...\n",
       "\n",
       "[100 rows x 1 columns]"
      ]
     },
     "execution_count": 75,
     "metadata": {},
     "output_type": "execute_result"
    }
   ],
   "source": [
    "df2.head(100)"
   ]
  },
  {
   "cell_type": "code",
   "execution_count": 76,
   "metadata": {},
   "outputs": [],
   "source": [
    "df[1] = df2['data']"
   ]
  },
  {
   "cell_type": "code",
   "execution_count": 77,
   "metadata": {},
   "outputs": [
    {
     "data": {
      "text/html": [
       "<div>\n",
       "<style scoped>\n",
       "    .dataframe tbody tr th:only-of-type {\n",
       "        vertical-align: middle;\n",
       "    }\n",
       "\n",
       "    .dataframe tbody tr th {\n",
       "        vertical-align: top;\n",
       "    }\n",
       "\n",
       "    .dataframe thead th {\n",
       "        text-align: right;\n",
       "    }\n",
       "</style>\n",
       "<table border=\"1\" class=\"dataframe\">\n",
       "  <thead>\n",
       "    <tr style=\"text-align: right;\">\n",
       "      <th></th>\n",
       "      <th>0</th>\n",
       "      <th>1</th>\n",
       "      <th>2</th>\n",
       "    </tr>\n",
       "  </thead>\n",
       "  <tbody>\n",
       "    <tr>\n",
       "      <th>0</th>\n",
       "      <td>facebook_corpus_msr_333008</td>\n",
       "      <td>RANDTV तूम्हारे नजायज बाप है एरिया है का वहा क...</td>\n",
       "      <td>OAG</td>\n",
       "    </tr>\n",
       "    <tr>\n",
       "      <th>1</th>\n",
       "      <td>facebook_corpus_msr_690306</td>\n",
       "      <td>पहिली अवस्था बराबर दु जूटे खाये ग्रोवर से</td>\n",
       "      <td>OAG</td>\n",
       "    </tr>\n",
       "    <tr>\n",
       "      <th>2</th>\n",
       "      <td>facebook_corpus_msr_382520</td>\n",
       "      <td>Salman aur aamir ki kounsi movie release huyee...</td>\n",
       "      <td>OAG</td>\n",
       "    </tr>\n",
       "    <tr>\n",
       "      <th>3</th>\n",
       "      <td>facebook_corpus_msr_401748</td>\n",
       "      <td>Wk aur bhakt आ गया। अबे अमरीकंस का बोलना h ki ...</td>\n",
       "      <td>CAG</td>\n",
       "    </tr>\n",
       "    <tr>\n",
       "      <th>4</th>\n",
       "      <td>facebook_corpus_msr_656339</td>\n",
       "      <td>बीटा टू तू अप्प बाप का है ... तूं मँग वो लया अ...</td>\n",
       "      <td>NAG</td>\n",
       "    </tr>\n",
       "    <tr>\n",
       "      <th>...</th>\n",
       "      <td>...</td>\n",
       "      <td>...</td>\n",
       "      <td>...</td>\n",
       "    </tr>\n",
       "    <tr>\n",
       "      <th>95</th>\n",
       "      <td>facebook_corpus_msr_337385</td>\n",
       "      <td>क्या समए bjp k khilaf khari kisi v पार्टी मुझे...</td>\n",
       "      <td>CAG</td>\n",
       "    </tr>\n",
       "    <tr>\n",
       "      <th>96</th>\n",
       "      <td>facebook_corpus_msr_349965</td>\n",
       "      <td>आरा दीखाय ग मोदी जी अपना 56 इंच का सीना एगले च...</td>\n",
       "      <td>CAG</td>\n",
       "    </tr>\n",
       "    <tr>\n",
       "      <th>97</th>\n",
       "      <td>facebook_corpus_msr_956399</td>\n",
       "      <td>बिलकुल साही सर जी</td>\n",
       "      <td>NAG</td>\n",
       "    </tr>\n",
       "    <tr>\n",
       "      <th>98</th>\n",
       "      <td>facebook_corpus_msr_1561856</td>\n",
       "      <td>क्या मैडम? Aap ke pita ke saman hain wo vidhay...</td>\n",
       "      <td>NAG</td>\n",
       "    </tr>\n",
       "    <tr>\n",
       "      <th>99</th>\n",
       "      <td>facebook_corpus_msr_335112</td>\n",
       "      <td>arendra singh çed¸२ç®®® à¤ • ° प्रकाशन ¹à ¹ € ...</td>\n",
       "      <td>CAG</td>\n",
       "    </tr>\n",
       "  </tbody>\n",
       "</table>\n",
       "<p>100 rows × 3 columns</p>\n",
       "</div>"
      ],
      "text/plain": [
       "                              0  \\\n",
       "0    facebook_corpus_msr_333008   \n",
       "1    facebook_corpus_msr_690306   \n",
       "2    facebook_corpus_msr_382520   \n",
       "3    facebook_corpus_msr_401748   \n",
       "4    facebook_corpus_msr_656339   \n",
       "..                          ...   \n",
       "95   facebook_corpus_msr_337385   \n",
       "96   facebook_corpus_msr_349965   \n",
       "97   facebook_corpus_msr_956399   \n",
       "98  facebook_corpus_msr_1561856   \n",
       "99   facebook_corpus_msr_335112   \n",
       "\n",
       "                                                    1    2  \n",
       "0   RANDTV तूम्हारे नजायज बाप है एरिया है का वहा क...  OAG  \n",
       "1          पहिली अवस्था बराबर दु जूटे खाये ग्रोवर से   OAG  \n",
       "2   Salman aur aamir ki kounsi movie release huyee...  OAG  \n",
       "3   Wk aur bhakt आ गया। अबे अमरीकंस का बोलना h ki ...  CAG  \n",
       "4   बीटा टू तू अप्प बाप का है ... तूं मँग वो लया अ...  NAG  \n",
       "..                                                ...  ...  \n",
       "95  क्या समए bjp k khilaf khari kisi v पार्टी मुझे...  CAG  \n",
       "96  आरा दीखाय ग मोदी जी अपना 56 इंच का सीना एगले च...  CAG  \n",
       "97                                 बिलकुल साही सर जी   NAG  \n",
       "98  क्या मैडम? Aap ke pita ke saman hain wo vidhay...  NAG  \n",
       "99  arendra singh çed¸२ç®®® à¤ • ° प्रकाशन ¹à ¹ € ...  CAG  \n",
       "\n",
       "[100 rows x 3 columns]"
      ]
     },
     "execution_count": 77,
     "metadata": {},
     "output_type": "execute_result"
    }
   ],
   "source": [
    "df.head(100)"
   ]
  },
  {
   "cell_type": "code",
   "execution_count": 79,
   "metadata": {},
   "outputs": [],
   "source": [
    "df.to_csv('final_hi_dev.csv')"
   ]
  },
  {
   "cell_type": "code",
   "execution_count": null,
   "metadata": {},
   "outputs": [],
   "source": []
  }
 ],
 "metadata": {
  "kernelspec": {
   "display_name": "Python 3",
   "language": "python",
   "name": "python3"
  },
  "language_info": {
   "codemirror_mode": {
    "name": "ipython",
    "version": 3
   },
   "file_extension": ".py",
   "mimetype": "text/x-python",
   "name": "python",
   "nbconvert_exporter": "python",
   "pygments_lexer": "ipython3",
   "version": "3.8.5"
  }
 },
 "nbformat": 4,
 "nbformat_minor": 4
}
