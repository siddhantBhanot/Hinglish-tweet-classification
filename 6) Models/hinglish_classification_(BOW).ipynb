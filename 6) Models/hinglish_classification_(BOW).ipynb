{
  "nbformat": 4,
  "nbformat_minor": 0,
  "metadata": {
    "colab": {
      "name": "hinglish classification (BOW).ipynb",
      "provenance": [],
      "collapsed_sections": [],
      "toc_visible": true
    },
    "kernelspec": {
      "name": "python3",
      "display_name": "Python 3"
    },
    "language_info": {
      "name": "python"
    }
  },
  "cells": [
    {
      "cell_type": "markdown",
      "metadata": {
        "id": "FhxmYHi2mMWW"
      },
      "source": [
        "# BOW\n",
        "\n",
        "https://towardsdatascience.com/multi-class-text-classification-model-comparison-and-selection-5eb066197568"
      ]
    },
    {
      "cell_type": "code",
      "metadata": {
        "id": "IX2zm_C_fYlb"
      },
      "source": [
        "import numpy as np\n",
        "import pandas as pd"
      ],
      "execution_count": null,
      "outputs": []
    },
    {
      "cell_type": "markdown",
      "metadata": {
        "id": "9LUZlLhaf513"
      },
      "source": [
        "#Loading the data"
      ]
    },
    {
      "cell_type": "code",
      "metadata": {
        "id": "aIDO9PH4f9p_"
      },
      "source": [
        "df1 = pd.read_excel(\"/content/FinalHinTrainTrac2_BackTran(clean).xlsx\", index_col = 0)\n",
        "df2 = pd.read_excel(\"/content/FinalHinDevTrac2_BackTran(clean).xlsx\", index_col = 0)"
      ],
      "execution_count": null,
      "outputs": []
    },
    {
      "cell_type": "code",
      "metadata": {
        "colab": {
          "base_uri": "https://localhost:8080/",
          "height": 203
        },
        "id": "znpt393YgYoh",
        "outputId": "71803dd8-a80a-4810-fcb9-d64dac1cc12d"
      },
      "source": [
        "df1.head()"
      ],
      "execution_count": null,
      "outputs": [
        {
          "output_type": "execute_result",
          "data": {
            "text/html": [
              "<div>\n",
              "<style scoped>\n",
              "    .dataframe tbody tr th:only-of-type {\n",
              "        vertical-align: middle;\n",
              "    }\n",
              "\n",
              "    .dataframe tbody tr th {\n",
              "        vertical-align: top;\n",
              "    }\n",
              "\n",
              "    .dataframe thead th {\n",
              "        text-align: right;\n",
              "    }\n",
              "</style>\n",
              "<table border=\"1\" class=\"dataframe\">\n",
              "  <thead>\n",
              "    <tr style=\"text-align: right;\">\n",
              "      <th></th>\n",
              "      <th>ID</th>\n",
              "      <th>data</th>\n",
              "      <th>Sub-task A</th>\n",
              "      <th>Sub-task B</th>\n",
              "    </tr>\n",
              "  </thead>\n",
              "  <tbody>\n",
              "    <tr>\n",
              "      <th>0</th>\n",
              "      <td>C4.131</td>\n",
              "      <td>बॉलीवुड फिल्म देखने के समय तर्क घर में चोरके ए...</td>\n",
              "      <td>NAG</td>\n",
              "      <td>NGEN</td>\n",
              "    </tr>\n",
              "    <tr>\n",
              "      <th>1</th>\n",
              "      <td>C4.638</td>\n",
              "      <td>चुटिया फिल्म</td>\n",
              "      <td>NAG</td>\n",
              "      <td>NGEN</td>\n",
              "    </tr>\n",
              "    <tr>\n",
              "      <th>2</th>\n",
              "      <td>C38.598</td>\n",
              "      <td>हमारे जाट बन्दे का खेने का अर्थ था मार्च डालुग...</td>\n",
              "      <td>OAG</td>\n",
              "      <td>NGEN</td>\n",
              "    </tr>\n",
              "    <tr>\n",
              "      <th>3</th>\n",
              "      <td>C4.2101.1</td>\n",
              "      <td>फेमिनिस्म कैंसर की नारीवादी ये साही हैं संयुक...</td>\n",
              "      <td>OAG</td>\n",
              "      <td>NGEN</td>\n",
              "    </tr>\n",
              "    <tr>\n",
              "      <th>4</th>\n",
              "      <td>C29.14.2</td>\n",
              "      <td>अमृत आनंद अब तो जुड़े ही है उनको बोलो जुड़ने</td>\n",
              "      <td>NAG</td>\n",
              "      <td>NGEN</td>\n",
              "    </tr>\n",
              "  </tbody>\n",
              "</table>\n",
              "</div>"
            ],
            "text/plain": [
              "          ID  ... Sub-task B\n",
              "0     C4.131  ...       NGEN\n",
              "1     C4.638  ...       NGEN\n",
              "2    C38.598  ...       NGEN\n",
              "3  C4.2101.1  ...       NGEN\n",
              "4   C29.14.2  ...       NGEN\n",
              "\n",
              "[5 rows x 4 columns]"
            ]
          },
          "metadata": {
            "tags": []
          },
          "execution_count": 12
        }
      ]
    },
    {
      "cell_type": "code",
      "metadata": {
        "colab": {
          "base_uri": "https://localhost:8080/",
          "height": 203
        },
        "id": "Bs_saWBdgeRY",
        "outputId": "9bfd403f-3e81-4474-e10d-6e2a3adc011e"
      },
      "source": [
        "df2.head()"
      ],
      "execution_count": null,
      "outputs": [
        {
          "output_type": "execute_result",
          "data": {
            "text/html": [
              "<div>\n",
              "<style scoped>\n",
              "    .dataframe tbody tr th:only-of-type {\n",
              "        vertical-align: middle;\n",
              "    }\n",
              "\n",
              "    .dataframe tbody tr th {\n",
              "        vertical-align: top;\n",
              "    }\n",
              "\n",
              "    .dataframe thead th {\n",
              "        text-align: right;\n",
              "    }\n",
              "</style>\n",
              "<table border=\"1\" class=\"dataframe\">\n",
              "  <thead>\n",
              "    <tr style=\"text-align: right;\">\n",
              "      <th></th>\n",
              "      <th>ID</th>\n",
              "      <th>data</th>\n",
              "      <th>Sub-task A</th>\n",
              "      <th>Sub-task B</th>\n",
              "    </tr>\n",
              "  </thead>\n",
              "  <tbody>\n",
              "    <tr>\n",
              "      <th>0</th>\n",
              "      <td>C38.9</td>\n",
              "      <td>बक्ल साक्षात्कारकर्ताओं कुछ जाड़ा हाय खुले दिम...</td>\n",
              "      <td>OAG</td>\n",
              "      <td>NGEN</td>\n",
              "    </tr>\n",
              "    <tr>\n",
              "      <th>1</th>\n",
              "      <td>C4.1510</td>\n",
              "      <td>भैया शादी मैं ज़रूर आना फिल्म का कथानक था क्या...</td>\n",
              "      <td>NAG</td>\n",
              "      <td>NGEN</td>\n",
              "    </tr>\n",
              "    <tr>\n",
              "      <th>2</th>\n",
              "      <td>C19.95</td>\n",
              "      <td>धारा हैं क्या ये बताते कम से कम को</td>\n",
              "      <td>NAG</td>\n",
              "      <td>NGEN</td>\n",
              "    </tr>\n",
              "    <tr>\n",
              "      <th>3</th>\n",
              "      <td>C4.281</td>\n",
              "      <td>कबीर सिंह मारा हुई इससे पता चलता है आजकल के लो...</td>\n",
              "      <td>OAG</td>\n",
              "      <td>NGEN</td>\n",
              "    </tr>\n",
              "    <tr>\n",
              "      <th>4</th>\n",
              "      <td>C4.216</td>\n",
              "      <td>मेन इतनी कम नापसंद क्भी न्ही देखी</td>\n",
              "      <td>NAG</td>\n",
              "      <td>NGEN</td>\n",
              "    </tr>\n",
              "  </tbody>\n",
              "</table>\n",
              "</div>"
            ],
            "text/plain": [
              "        ID  ... Sub-task B\n",
              "0    C38.9  ...       NGEN\n",
              "1  C4.1510  ...       NGEN\n",
              "2   C19.95  ...       NGEN\n",
              "3   C4.281  ...       NGEN\n",
              "4   C4.216  ...       NGEN\n",
              "\n",
              "[5 rows x 4 columns]"
            ]
          },
          "metadata": {
            "tags": []
          },
          "execution_count": 13
        }
      ]
    },
    {
      "cell_type": "code",
      "metadata": {
        "colab": {
          "base_uri": "https://localhost:8080/"
        },
        "id": "ZgN8RELCgfuP",
        "outputId": "41bf4ae3-8c87-4f66-c7f4-b2f871f7190a"
      },
      "source": [
        "df1['Sub-task A'].value_counts()"
      ],
      "execution_count": null,
      "outputs": [
        {
          "output_type": "execute_result",
          "data": {
            "text/plain": [
              "CAG    2453\n",
              "NAG    2245\n",
              "OAG    1820\n",
              "Name: Sub-task A, dtype: int64"
            ]
          },
          "metadata": {
            "tags": []
          },
          "execution_count": 14
        }
      ]
    },
    {
      "cell_type": "code",
      "metadata": {
        "colab": {
          "base_uri": "https://localhost:8080/"
        },
        "id": "506wS3OoghlI",
        "outputId": "9693d306-b498-4e7f-910e-3821cc0726f8"
      },
      "source": [
        "df2['Sub-task A'].value_counts()"
      ],
      "execution_count": null,
      "outputs": [
        {
          "output_type": "execute_result",
          "data": {
            "text/plain": [
              "CAG    602\n",
              "OAG    582\n",
              "NAG    578\n",
              "Name: Sub-task A, dtype: int64"
            ]
          },
          "metadata": {
            "tags": []
          },
          "execution_count": 15
        }
      ]
    },
    {
      "cell_type": "code",
      "metadata": {
        "id": "NkVjcmsOgjPo"
      },
      "source": [
        "df = pd.concat([df1, df2], ignore_index = True)"
      ],
      "execution_count": null,
      "outputs": []
    },
    {
      "cell_type": "code",
      "metadata": {
        "colab": {
          "base_uri": "https://localhost:8080/",
          "height": 203
        },
        "id": "Q_kBgrB6grcP",
        "outputId": "a5da5867-b49d-4ec7-8929-54ce5d2d7c7b"
      },
      "source": [
        "df.head()"
      ],
      "execution_count": null,
      "outputs": [
        {
          "output_type": "execute_result",
          "data": {
            "text/html": [
              "<div>\n",
              "<style scoped>\n",
              "    .dataframe tbody tr th:only-of-type {\n",
              "        vertical-align: middle;\n",
              "    }\n",
              "\n",
              "    .dataframe tbody tr th {\n",
              "        vertical-align: top;\n",
              "    }\n",
              "\n",
              "    .dataframe thead th {\n",
              "        text-align: right;\n",
              "    }\n",
              "</style>\n",
              "<table border=\"1\" class=\"dataframe\">\n",
              "  <thead>\n",
              "    <tr style=\"text-align: right;\">\n",
              "      <th></th>\n",
              "      <th>ID</th>\n",
              "      <th>data</th>\n",
              "      <th>Sub-task A</th>\n",
              "      <th>Sub-task B</th>\n",
              "    </tr>\n",
              "  </thead>\n",
              "  <tbody>\n",
              "    <tr>\n",
              "      <th>0</th>\n",
              "      <td>C4.131</td>\n",
              "      <td>बॉलीवुड फिल्म देखने के समय तर्क घर में चोरके ए...</td>\n",
              "      <td>NAG</td>\n",
              "      <td>NGEN</td>\n",
              "    </tr>\n",
              "    <tr>\n",
              "      <th>1</th>\n",
              "      <td>C4.638</td>\n",
              "      <td>चुटिया फिल्म</td>\n",
              "      <td>NAG</td>\n",
              "      <td>NGEN</td>\n",
              "    </tr>\n",
              "    <tr>\n",
              "      <th>2</th>\n",
              "      <td>C38.598</td>\n",
              "      <td>हमारे जाट बन्दे का खेने का अर्थ था मार्च डालुग...</td>\n",
              "      <td>OAG</td>\n",
              "      <td>NGEN</td>\n",
              "    </tr>\n",
              "    <tr>\n",
              "      <th>3</th>\n",
              "      <td>C4.2101.1</td>\n",
              "      <td>फेमिनिस्म कैंसर की नारीवादी ये साही हैं संयुक...</td>\n",
              "      <td>OAG</td>\n",
              "      <td>NGEN</td>\n",
              "    </tr>\n",
              "    <tr>\n",
              "      <th>4</th>\n",
              "      <td>C29.14.2</td>\n",
              "      <td>अमृत आनंद अब तो जुड़े ही है उनको बोलो जुड़ने</td>\n",
              "      <td>NAG</td>\n",
              "      <td>NGEN</td>\n",
              "    </tr>\n",
              "  </tbody>\n",
              "</table>\n",
              "</div>"
            ],
            "text/plain": [
              "          ID  ... Sub-task B\n",
              "0     C4.131  ...       NGEN\n",
              "1     C4.638  ...       NGEN\n",
              "2    C38.598  ...       NGEN\n",
              "3  C4.2101.1  ...       NGEN\n",
              "4   C29.14.2  ...       NGEN\n",
              "\n",
              "[5 rows x 4 columns]"
            ]
          },
          "metadata": {
            "tags": []
          },
          "execution_count": 17
        }
      ]
    },
    {
      "cell_type": "code",
      "metadata": {
        "id": "u6oc-ECKgwPI"
      },
      "source": [
        "samples = df['data']\n",
        "labels = df['Sub-task A']"
      ],
      "execution_count": null,
      "outputs": []
    },
    {
      "cell_type": "code",
      "metadata": {
        "colab": {
          "base_uri": "https://localhost:8080/"
        },
        "id": "37WVSlj5Agmz",
        "outputId": "5c82c791-9a4e-4fcc-f4ce-396edf135892"
      },
      "source": [
        "print(len(samples))\n",
        "print(len(labels))"
      ],
      "execution_count": null,
      "outputs": [
        {
          "output_type": "stream",
          "text": [
            "8280\n",
            "8280\n"
          ],
          "name": "stdout"
        }
      ]
    },
    {
      "cell_type": "markdown",
      "metadata": {
        "id": "9hxE7YRLAmnR"
      },
      "source": [
        "# Shuffling the data and splitting it"
      ]
    },
    {
      "cell_type": "code",
      "metadata": {
        "id": "3dlxwv6GAqVC"
      },
      "source": [
        "# Shuffle the data\n",
        "seed = 1333\n",
        "rng = np.random.RandomState(seed)\n",
        "rng.shuffle(samples)\n",
        "rng = np.random.RandomState(seed)\n",
        "rng.shuffle(labels)\n",
        "\n",
        "# Extract a training & validation split\n",
        "validation_split = 0.2\n",
        "num_validation_samples = int(validation_split * len(samples))\n",
        "train_samples = samples[:-num_validation_samples]\n",
        "val_samples = samples[-num_validation_samples:]\n",
        "train_labels = labels[:-num_validation_samples]\n",
        "val_labels = labels[-num_validation_samples:]"
      ],
      "execution_count": null,
      "outputs": []
    },
    {
      "cell_type": "code",
      "metadata": {
        "id": "D0YnrsHTAthK"
      },
      "source": [
        "train_labels = list(train_labels)\n",
        "val_labels = list(val_labels)"
      ],
      "execution_count": null,
      "outputs": []
    },
    {
      "cell_type": "code",
      "metadata": {
        "colab": {
          "base_uri": "https://localhost:8080/"
        },
        "id": "_ucwacLqA1qa",
        "outputId": "4cd2dff6-0cbc-47d3-be55-531b5718bf84"
      },
      "source": [
        "class_names = list(df['Sub-task A'].unique())\n",
        "class_names"
      ],
      "execution_count": null,
      "outputs": [
        {
          "output_type": "execute_result",
          "data": {
            "text/plain": [
              "['CAG', 'OAG', 'NAG']"
            ]
          },
          "metadata": {
            "tags": []
          },
          "execution_count": 31
        }
      ]
    },
    {
      "cell_type": "code",
      "metadata": {
        "id": "dDIznB2Yh9qV"
      },
      "source": [
        "import tensorflow as tf\n",
        "\n",
        "from sklearn.preprocessing import LabelBinarizer, LabelEncoder\n",
        "from sklearn.metrics import confusion_matrix\n",
        "\n",
        "from tensorflow import keras\n",
        "from keras.models import Sequential\n",
        "from keras.layers import Dense, Activation, Dropout\n",
        "from keras.preprocessing import text, sequence\n",
        "from tensorflow.keras.utils import to_categorical"
      ],
      "execution_count": null,
      "outputs": []
    },
    {
      "cell_type": "code",
      "metadata": {
        "id": "Lo5pW2pJh-3W"
      },
      "source": [
        "max_words = 1000\n",
        "tokenize = text.Tokenizer(num_words=max_words, char_level=False)\n",
        "tokenize.fit_on_texts(train_samples) # only fit on train"
      ],
      "execution_count": null,
      "outputs": []
    },
    {
      "cell_type": "code",
      "metadata": {
        "id": "mQvX4SBGiMhV"
      },
      "source": [
        "x_train = tokenize.texts_to_matrix(train_samples)\n",
        "x_test = tokenize.texts_to_matrix(val_samples)"
      ],
      "execution_count": null,
      "outputs": []
    },
    {
      "cell_type": "markdown",
      "metadata": {
        "id": "E37QsjONA7-G"
      },
      "source": [
        "# Changing the train and val labels from string to integers"
      ]
    },
    {
      "cell_type": "code",
      "metadata": {
        "id": "WL635fHaimAN"
      },
      "source": [
        "encoder = LabelEncoder()\n",
        "encoder.fit(train_labels)\n",
        "y_train = encoder.transform(train_labels)\n",
        "y_test = encoder.transform(val_labels)"
      ],
      "execution_count": null,
      "outputs": []
    },
    {
      "cell_type": "code",
      "metadata": {
        "id": "a-kcFCcOjTzt"
      },
      "source": [
        "num_classes = np.max(y_train) + 1\n",
        "y_train = to_categorical(y_train, num_classes)\n",
        "y_test = to_categorical(y_test, num_classes)"
      ],
      "execution_count": null,
      "outputs": []
    },
    {
      "cell_type": "markdown",
      "metadata": {
        "id": "PW6tU55slOi9"
      },
      "source": [
        "# Building the model"
      ]
    },
    {
      "cell_type": "code",
      "metadata": {
        "colab": {
          "base_uri": "https://localhost:8080/"
        },
        "id": "Sn6_zd3flQqL",
        "outputId": "5a578488-e758-467b-9119-d24973adf675"
      },
      "source": [
        "batch_size = 128\n",
        "epochs = 20\n",
        "\n",
        "# Build the model\n",
        "model = Sequential()\n",
        "model.add(Dense(512, input_shape=(max_words,)))\n",
        "model.add(Activation('relu'))\n",
        "model.add(Dropout(0.5))\n",
        "model.add(Dense(num_classes))\n",
        "model.add(Activation('softmax'))\n",
        "model.summary()"
      ],
      "execution_count": null,
      "outputs": [
        {
          "output_type": "stream",
          "text": [
            "Model: \"sequential\"\n",
            "_________________________________________________________________\n",
            "Layer (type)                 Output Shape              Param #   \n",
            "=================================================================\n",
            "dense (Dense)                (None, 512)               512512    \n",
            "_________________________________________________________________\n",
            "activation (Activation)      (None, 512)               0         \n",
            "_________________________________________________________________\n",
            "dropout (Dropout)            (None, 512)               0         \n",
            "_________________________________________________________________\n",
            "dense_1 (Dense)              (None, 3)                 1539      \n",
            "_________________________________________________________________\n",
            "activation_1 (Activation)    (None, 3)                 0         \n",
            "=================================================================\n",
            "Total params: 514,051\n",
            "Trainable params: 514,051\n",
            "Non-trainable params: 0\n",
            "_________________________________________________________________\n"
          ],
          "name": "stdout"
        }
      ]
    },
    {
      "cell_type": "code",
      "metadata": {
        "colab": {
          "base_uri": "https://localhost:8080/"
        },
        "id": "ymSrYnQzlj1F",
        "outputId": "e7372628-fd36-4671-e354-cf789ceb5e74"
      },
      "source": [
        "model.compile(loss='categorical_crossentropy',\n",
        "              optimizer='adam',\n",
        "              metrics=['accuracy'])\n",
        "              \n",
        "history = model.fit(x_train, y_train,\n",
        "                    batch_size=batch_size,\n",
        "                    epochs=epochs,\n",
        "                    verbose=1,\n",
        "                    validation_split=0.1)"
      ],
      "execution_count": null,
      "outputs": [
        {
          "output_type": "stream",
          "text": [
            "Epoch 1/20\n",
            "47/47 [==============================] - 14s 23ms/step - loss: 1.0412 - accuracy: 0.4589 - val_loss: 0.9139 - val_accuracy: 0.6063\n",
            "Epoch 2/20\n",
            "47/47 [==============================] - 0s 10ms/step - loss: 0.8197 - accuracy: 0.6780 - val_loss: 0.8473 - val_accuracy: 0.6501\n",
            "Epoch 3/20\n",
            "47/47 [==============================] - 0s 10ms/step - loss: 0.6823 - accuracy: 0.7344 - val_loss: 0.8198 - val_accuracy: 0.6546\n",
            "Epoch 4/20\n",
            "47/47 [==============================] - 0s 10ms/step - loss: 0.5875 - accuracy: 0.7745 - val_loss: 0.8237 - val_accuracy: 0.6591\n",
            "Epoch 5/20\n",
            "47/47 [==============================] - 0s 10ms/step - loss: 0.5145 - accuracy: 0.7981 - val_loss: 0.8395 - val_accuracy: 0.6697\n",
            "Epoch 6/20\n",
            "47/47 [==============================] - 0s 10ms/step - loss: 0.4608 - accuracy: 0.8309 - val_loss: 0.8497 - val_accuracy: 0.6682\n",
            "Epoch 7/20\n",
            "47/47 [==============================] - 0s 10ms/step - loss: 0.4051 - accuracy: 0.8604 - val_loss: 0.8693 - val_accuracy: 0.6606\n",
            "Epoch 8/20\n",
            "47/47 [==============================] - 0s 10ms/step - loss: 0.3626 - accuracy: 0.8756 - val_loss: 0.8901 - val_accuracy: 0.6606\n",
            "Epoch 9/20\n",
            "47/47 [==============================] - 0s 10ms/step - loss: 0.3231 - accuracy: 0.8905 - val_loss: 0.9120 - val_accuracy: 0.6531\n",
            "Epoch 10/20\n",
            "47/47 [==============================] - 0s 10ms/step - loss: 0.2978 - accuracy: 0.8986 - val_loss: 0.9291 - val_accuracy: 0.6591\n",
            "Epoch 11/20\n",
            "47/47 [==============================] - 0s 10ms/step - loss: 0.2626 - accuracy: 0.9176 - val_loss: 0.9513 - val_accuracy: 0.6667\n",
            "Epoch 12/20\n",
            "47/47 [==============================] - 0s 10ms/step - loss: 0.2418 - accuracy: 0.9282 - val_loss: 0.9671 - val_accuracy: 0.6742\n",
            "Epoch 13/20\n",
            "47/47 [==============================] - 0s 10ms/step - loss: 0.2223 - accuracy: 0.9332 - val_loss: 0.9834 - val_accuracy: 0.6787\n",
            "Epoch 14/20\n",
            "47/47 [==============================] - 0s 10ms/step - loss: 0.1951 - accuracy: 0.9429 - val_loss: 1.0213 - val_accuracy: 0.6727\n",
            "Epoch 15/20\n",
            "47/47 [==============================] - 0s 10ms/step - loss: 0.1882 - accuracy: 0.9480 - val_loss: 1.0323 - val_accuracy: 0.6682\n",
            "Epoch 16/20\n",
            "47/47 [==============================] - 0s 10ms/step - loss: 0.1723 - accuracy: 0.9470 - val_loss: 1.0538 - val_accuracy: 0.6697\n",
            "Epoch 17/20\n",
            "47/47 [==============================] - 0s 10ms/step - loss: 0.1658 - accuracy: 0.9513 - val_loss: 1.0857 - val_accuracy: 0.6727\n",
            "Epoch 18/20\n",
            "47/47 [==============================] - 0s 10ms/step - loss: 0.1508 - accuracy: 0.9570 - val_loss: 1.1113 - val_accuracy: 0.6727\n",
            "Epoch 19/20\n",
            "47/47 [==============================] - 0s 10ms/step - loss: 0.1375 - accuracy: 0.9592 - val_loss: 1.1333 - val_accuracy: 0.6637\n",
            "Epoch 20/20\n",
            "47/47 [==============================] - 0s 10ms/step - loss: 0.1349 - accuracy: 0.9580 - val_loss: 1.1404 - val_accuracy: 0.6652\n"
          ],
          "name": "stdout"
        }
      ]
    },
    {
      "cell_type": "code",
      "metadata": {
        "colab": {
          "base_uri": "https://localhost:8080/"
        },
        "id": "sKfb_5NKlpud",
        "outputId": "8b2ed033-4593-4121-d149-56b3adf6ae27"
      },
      "source": [
        "score = model.evaluate(x_test, y_test,\n",
        "                       batch_size=batch_size, verbose=1)\n",
        "print('Test accuracy:', score[1])"
      ],
      "execution_count": null,
      "outputs": [
        {
          "output_type": "stream",
          "text": [
            "13/13 [==============================] - 0s 4ms/step - loss: 1.1100 - accuracy: 0.6673\n",
            "Test accuracy: 0.6672705411911011\n"
          ],
          "name": "stdout"
        }
      ]
    },
    {
      "cell_type": "code",
      "metadata": {
        "id": "NFadZR_Ml59l"
      },
      "source": [
        ""
      ],
      "execution_count": null,
      "outputs": []
    }
  ]
}