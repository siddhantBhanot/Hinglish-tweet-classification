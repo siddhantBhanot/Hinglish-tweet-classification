{
 "cells": [
  {
   "cell_type": "code",
   "execution_count": 1,
   "metadata": {},
   "outputs": [],
   "source": [
    "import pandas as pd\n",
    "import numpy as np"
   ]
  },
  {
   "cell_type": "code",
   "execution_count": 2,
   "metadata": {},
   "outputs": [],
   "source": [
    "df1 = pd.read_excel(r'C:\\Users\\siddh\\OneDrive\\Desktop\\Minor Project\\TRAC 2 back_trans\\FinalEngDevTrac2_BackTran.xlsx',index_col = 0 )"
   ]
  },
  {
   "cell_type": "code",
   "execution_count": 3,
   "metadata": {},
   "outputs": [],
   "source": [
    "df2 = pd.read_excel(r'C:\\Users\\siddh\\OneDrive\\Desktop\\Minor Project\\TRAC 2 back_trans\\FinalEngTrainTrac2_BackTran.xlsx',index_col = 0)"
   ]
  },
  {
   "cell_type": "code",
   "execution_count": 64,
   "metadata": {},
   "outputs": [],
   "source": [
    "hindi_dev_final = pd.read_excel(r'C:\\Users\\siddh\\OneDrive\\Desktop\\Minor Project\\TRAC 2 back_trans\\FinalHinDevTrac2_BackTran.xlsx',index_col = 0)"
   ]
  },
  {
   "cell_type": "code",
   "execution_count": 66,
   "metadata": {},
   "outputs": [],
   "source": [
    "hindi_train_final = pd.read_excel(r'C:\\Users\\siddh\\OneDrive\\Desktop\\Minor Project\\FinalHinTrainTrac2_BackTrans.xlsx',index_col = 0)"
   ]
  },
  {
   "cell_type": "code",
   "execution_count": 22,
   "metadata": {},
   "outputs": [],
   "source": [
    "df = pd.read_excel(r'C:\\Users\\siddh\\OneDrive\\Desktop\\Minor Project\\TRAC 2 back_trans\\FinalHinDevTrac2_BackTran.xlsx', index_col = 0)"
   ]
  },
  {
   "cell_type": "code",
   "execution_count": 23,
   "metadata": {},
   "outputs": [
    {
     "data": {
      "text/plain": [
       "CAG    602\n",
       "OAG    582\n",
       "NAG    578\n",
       "Name: Sub-task A, dtype: int64"
      ]
     },
     "execution_count": 23,
     "metadata": {},
     "output_type": "execute_result"
    }
   ],
   "source": [
    "df['Sub-task A'].value_counts()"
   ]
  },
  {
   "cell_type": "code",
   "execution_count": 51,
   "metadata": {},
   "outputs": [
    {
     "data": {
      "text/html": [
       "<div>\n",
       "<style scoped>\n",
       "    .dataframe tbody tr th:only-of-type {\n",
       "        vertical-align: middle;\n",
       "    }\n",
       "\n",
       "    .dataframe tbody tr th {\n",
       "        vertical-align: top;\n",
       "    }\n",
       "\n",
       "    .dataframe thead th {\n",
       "        text-align: right;\n",
       "    }\n",
       "</style>\n",
       "<table border=\"1\" class=\"dataframe\">\n",
       "  <thead>\n",
       "    <tr style=\"text-align: right;\">\n",
       "      <th></th>\n",
       "      <th>ID</th>\n",
       "      <th>data</th>\n",
       "      <th>Sub-task A</th>\n",
       "      <th>Sub-task B</th>\n",
       "    </tr>\n",
       "  </thead>\n",
       "  <tbody>\n",
       "    <tr>\n",
       "      <th>0</th>\n",
       "      <td>C38.9</td>\n",
       "      <td>बक्ल साक्षात्कारकर्ताओं कुछ जाड़ा हाय खुले दिम...</td>\n",
       "      <td>OAG</td>\n",
       "      <td>NGEN</td>\n",
       "    </tr>\n",
       "    <tr>\n",
       "      <th>1</th>\n",
       "      <td>C4.1510</td>\n",
       "      <td>भैया शादी मैं ज़रूर आना फिल्म का कथानक था क्या...</td>\n",
       "      <td>NAG</td>\n",
       "      <td>NGEN</td>\n",
       "    </tr>\n",
       "    <tr>\n",
       "      <th>2</th>\n",
       "      <td>C19.95</td>\n",
       "      <td>धारा 375 हैं क्या ??? .... ये बताते कम से कम को</td>\n",
       "      <td>NAG</td>\n",
       "      <td>NGEN</td>\n",
       "    </tr>\n",
       "    <tr>\n",
       "      <th>3</th>\n",
       "      <td>C4.281</td>\n",
       "      <td>कबीर सिंह मारा हुई इससे पता चलता है आजकल के लो...</td>\n",
       "      <td>OAG</td>\n",
       "      <td>NGEN</td>\n",
       "    </tr>\n",
       "    <tr>\n",
       "      <th>4</th>\n",
       "      <td>C4.216</td>\n",
       "      <td>मेन इतनी कम नापसंद क्भी न्ही देखी</td>\n",
       "      <td>NAG</td>\n",
       "      <td>NGEN</td>\n",
       "    </tr>\n",
       "    <tr>\n",
       "      <th>...</th>\n",
       "      <td>...</td>\n",
       "      <td>...</td>\n",
       "      <td>...</td>\n",
       "      <td>...</td>\n",
       "    </tr>\n",
       "    <tr>\n",
       "      <th>145</th>\n",
       "      <td>C4.305</td>\n",
       "      <td>साला आज के बाद कोई बॉलीवुड फिल्म हाय नही देखूं...</td>\n",
       "      <td>CAG</td>\n",
       "      <td>NGEN</td>\n",
       "    </tr>\n",
       "    <tr>\n",
       "      <th>146</th>\n",
       "      <td>C7.328</td>\n",
       "      <td>अबे चुटिये लंड मालूम ज तुझ को प्यार</td>\n",
       "      <td>OAG</td>\n",
       "      <td>GEN</td>\n",
       "    </tr>\n",
       "    <tr>\n",
       "      <th>147</th>\n",
       "      <td>C20.184</td>\n",
       "      <td>फराह खान भाई साजिद खान की जीवनी हैं करने के लि...</td>\n",
       "      <td>NAG</td>\n",
       "      <td>NGEN</td>\n",
       "    </tr>\n",
       "    <tr>\n",
       "      <th>148</th>\n",
       "      <td>C59.1774</td>\n",
       "      <td>बोहोत कठिन भी कठिन बोहोत 😚</td>\n",
       "      <td>NAG</td>\n",
       "      <td>NGEN</td>\n",
       "    </tr>\n",
       "    <tr>\n",
       "      <th>149</th>\n",
       "      <td>C10.964</td>\n",
       "      <td>देवदार जो हल रंगा बिल्ला का हुआ वोही हॉल हू यद...</td>\n",
       "      <td>OAG</td>\n",
       "      <td>NGEN</td>\n",
       "    </tr>\n",
       "  </tbody>\n",
       "</table>\n",
       "<p>150 rows × 4 columns</p>\n",
       "</div>"
      ],
      "text/plain": [
       "           ID                                               data Sub-task A  \\\n",
       "0       C38.9  बक्ल साक्षात्कारकर्ताओं कुछ जाड़ा हाय खुले दिम...        OAG   \n",
       "1     C4.1510  भैया शादी मैं ज़रूर आना फिल्म का कथानक था क्या...        NAG   \n",
       "2      C19.95    धारा 375 हैं क्या ??? .... ये बताते कम से कम को        NAG   \n",
       "3      C4.281  कबीर सिंह मारा हुई इससे पता चलता है आजकल के लो...        OAG   \n",
       "4      C4.216                  मेन इतनी कम नापसंद क्भी न्ही देखी        NAG   \n",
       "..        ...                                                ...        ...   \n",
       "145    C4.305  साला आज के बाद कोई बॉलीवुड फिल्म हाय नही देखूं...        CAG   \n",
       "146    C7.328                अबे चुटिये लंड मालूम ज तुझ को प्यार        OAG   \n",
       "147   C20.184  फराह खान भाई साजिद खान की जीवनी हैं करने के लि...        NAG   \n",
       "148  C59.1774                         बोहोत कठिन भी कठिन बोहोत 😚        NAG   \n",
       "149   C10.964  देवदार जो हल रंगा बिल्ला का हुआ वोही हॉल हू यद...        OAG   \n",
       "\n",
       "    Sub-task B  \n",
       "0         NGEN  \n",
       "1         NGEN  \n",
       "2         NGEN  \n",
       "3         NGEN  \n",
       "4         NGEN  \n",
       "..         ...  \n",
       "145       NGEN  \n",
       "146        GEN  \n",
       "147       NGEN  \n",
       "148       NGEN  \n",
       "149       NGEN  \n",
       "\n",
       "[150 rows x 4 columns]"
      ]
     },
     "execution_count": 51,
     "metadata": {},
     "output_type": "execute_result"
    }
   ],
   "source": [
    "df.head(150)"
   ]
  },
  {
   "cell_type": "code",
   "execution_count": 63,
   "metadata": {},
   "outputs": [
    {
     "data": {
      "text/plain": [
       "6        कस्तूरी एक जाहिल है\n",
       "3986    कस्तुरी एक गोथिक है \n",
       "Name: data, dtype: object"
      ]
     },
     "execution_count": 63,
     "metadata": {},
     "output_type": "execute_result"
    }
   ],
   "source": [
    "df4[df4['ID'] == 'C10.823']['data']"
   ]
  },
  {
   "cell_type": "code",
   "execution_count": 61,
   "metadata": {},
   "outputs": [
    {
     "data": {
      "text/plain": [
       "'साला आज के बाद कोई बॉलीवुड फिल्म हाय नही देखूंगा 😂😂'"
      ]
     },
     "execution_count": 61,
     "metadata": {},
     "output_type": "execute_result"
    }
   ],
   "source": [
    "df[df['ID'] == 'C4.305']['data'][145]"
   ]
  },
  {
   "cell_type": "code",
   "execution_count": 28,
   "metadata": {},
   "outputs": [
    {
     "data": {
      "text/plain": [
       "'कबीर सिंह मारा हुई इससे पता चलता है आजकल के लोगों की पसंद कितनी गिरी हुई है और क्यों भारत में वैक्स 3 डी इन सब की मूवीस का कोई फ्यूचर नहीं है और क्यों बच्चे यह सब कुछ कोर्स करके बेरोजगार बैठे हुए हैं'"
      ]
     },
     "execution_count": 28,
     "metadata": {},
     "output_type": "execute_result"
    }
   ],
   "source": [
    "df[df['ID'] == 'C4.281']['data'].iloc[0]"
   ]
  },
  {
   "cell_type": "code",
   "execution_count": 29,
   "metadata": {},
   "outputs": [
    {
     "data": {
      "text/plain": [
       "'कबीर सिंह की मौत हो गई थी, यह दिखाती है कि लोगों की कितनी पसंद गिर गई है और भारत में मोम 3 डी का कोई वायदा क्यों नहीं है और क्यों बच्चे सबकुछ से बेरोजगार हैं। '"
      ]
     },
     "execution_count": 29,
     "metadata": {},
     "output_type": "execute_result"
    }
   ],
   "source": [
    "df[df['ID'] == 'C4.281']['data'].iloc[1]"
   ]
  },
  {
   "cell_type": "code",
   "execution_count": 30,
   "metadata": {},
   "outputs": [
    {
     "data": {
      "text/plain": [
       "'कबीर सिंह की मौत हो गई थी, लोगों का कितना स्वाद गिर गया और भारत में 3 डी मोम का कोई भविष्य क्यों नहीं है और बच्चे क्यों बेरोजगारी में बैठे हैं। '"
      ]
     },
     "execution_count": 30,
     "metadata": {},
     "output_type": "execute_result"
    }
   ],
   "source": [
    "df[df['ID'] == 'C4.281']['data'].iloc[2]"
   ]
  },
  {
   "cell_type": "code",
   "execution_count": 36,
   "metadata": {},
   "outputs": [],
   "source": [
    "hindi_train = pd.read_excel(r'C:\\Users\\siddh\\OneDrive\\Desktop\\Minor Project\\FinalHinTrainTrac2_.xlsx')\n",
    "hindi_dev = pd.read_excel(r'C:\\Users\\siddh\\OneDrive\\Desktop\\Minor Project\\FinalHinDevTrac2_.xlsx')"
   ]
  },
  {
   "cell_type": "code",
   "execution_count": 37,
   "metadata": {},
   "outputs": [
    {
     "data": {
      "text/plain": [
       "NAG    2245\n",
       "OAG     910\n",
       "CAG     829\n",
       "Name: Sub-task A, dtype: int64"
      ]
     },
     "execution_count": 37,
     "metadata": {},
     "output_type": "execute_result"
    }
   ],
   "source": [
    "hindi_train['Sub-task A'].value_counts()"
   ]
  },
  {
   "cell_type": "code",
   "execution_count": 38,
   "metadata": {},
   "outputs": [
    {
     "data": {
      "text/plain": [
       "NAG    578\n",
       "CAG    211\n",
       "OAG    208\n",
       "Name: Sub-task A, dtype: int64"
      ]
     },
     "execution_count": 38,
     "metadata": {},
     "output_type": "execute_result"
    }
   ],
   "source": [
    "hindi_dev['Sub-task A'].value_counts()"
   ]
  },
  {
   "cell_type": "code",
   "execution_count": 65,
   "metadata": {},
   "outputs": [
    {
     "data": {
      "text/plain": [
       "CAG    602\n",
       "OAG    582\n",
       "NAG    578\n",
       "Name: Sub-task A, dtype: int64"
      ]
     },
     "execution_count": 65,
     "metadata": {},
     "output_type": "execute_result"
    }
   ],
   "source": [
    "hindi_dev_final['Sub-task A'].value_counts()"
   ]
  },
  {
   "cell_type": "code",
   "execution_count": 67,
   "metadata": {},
   "outputs": [
    {
     "data": {
      "text/plain": [
       "OAG    3333\n",
       "CAG    3166\n",
       "NAG    2245\n",
       "Name: Sub-task A, dtype: int64"
      ]
     },
     "execution_count": 67,
     "metadata": {},
     "output_type": "execute_result"
    }
   ],
   "source": [
    "hindi_train_final['Sub-task A'].value_counts()"
   ]
  }
 ],
 "metadata": {
  "kernelspec": {
   "display_name": "Python 3",
   "language": "python",
   "name": "python3"
  },
  "language_info": {
   "codemirror_mode": {
    "name": "ipython",
    "version": 3
   },
   "file_extension": ".py",
   "mimetype": "text/x-python",
   "name": "python",
   "nbconvert_exporter": "python",
   "pygments_lexer": "ipython3",
   "version": "3.8.5"
  }
 },
 "nbformat": 4,
 "nbformat_minor": 4
}
