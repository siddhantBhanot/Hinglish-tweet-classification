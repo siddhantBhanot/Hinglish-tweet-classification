{
 "cells": [
  {
   "cell_type": "code",
   "execution_count": 1,
   "metadata": {},
   "outputs": [],
   "source": [
    "# !pip install git+git://github.com/irshadbhat/indic-trans.git"
   ]
  },
  {
   "cell_type": "code",
   "execution_count": 2,
   "metadata": {},
   "outputs": [],
   "source": [
    "# !pip uninstall googletrans"
   ]
  },
  {
   "cell_type": "code",
   "execution_count": 4,
   "metadata": {},
   "outputs": [],
   "source": [
    "# !pip install googletrans==3.1.0a0"
   ]
  },
  {
   "cell_type": "code",
   "execution_count": 107,
   "metadata": {
    "scrolled": true
   },
   "outputs": [],
   "source": [
    "from indictrans import Transliterator\n",
    "from googletrans import Translator"
   ]
  },
  {
   "cell_type": "code",
   "execution_count": 108,
   "metadata": {},
   "outputs": [],
   "source": [
    "import numpy as np\n",
    "import pandas as pd"
   ]
  },
  {
   "cell_type": "code",
   "execution_count": 137,
   "metadata": {},
   "outputs": [],
   "source": [
    "df = pd.read_excel(r'C:\\Users\\siddh\\OneDrive\\Desktop\\Minor Project\\FinalEngDev_.xlsx')"
   ]
  },
  {
   "cell_type": "code",
   "execution_count": 138,
   "metadata": {},
   "outputs": [
    {
     "data": {
      "text/html": [
       "<div>\n",
       "<style scoped>\n",
       "    .dataframe tbody tr th:only-of-type {\n",
       "        vertical-align: middle;\n",
       "    }\n",
       "\n",
       "    .dataframe tbody tr th {\n",
       "        vertical-align: top;\n",
       "    }\n",
       "\n",
       "    .dataframe thead th {\n",
       "        text-align: right;\n",
       "    }\n",
       "</style>\n",
       "<table border=\"1\" class=\"dataframe\">\n",
       "  <thead>\n",
       "    <tr style=\"text-align: right;\">\n",
       "      <th></th>\n",
       "      <th>Unnamed: 0</th>\n",
       "      <th>Unnamed: 0.1</th>\n",
       "      <th>0</th>\n",
       "      <th>1</th>\n",
       "      <th>2</th>\n",
       "    </tr>\n",
       "  </thead>\n",
       "  <tbody>\n",
       "    <tr>\n",
       "      <th>0</th>\n",
       "      <td>0</td>\n",
       "      <td>0</td>\n",
       "      <td>facebook_corpus_msr_451811</td>\n",
       "      <td>फिर से बनाया की गुणवत्ता मुझे लगता है कि यह मछ...</td>\n",
       "      <td>CAG</td>\n",
       "    </tr>\n",
       "    <tr>\n",
       "      <th>1</th>\n",
       "      <td>1</td>\n",
       "      <td>1</td>\n",
       "      <td>facebook_corpus_msr_334368</td>\n",
       "      <td>@ शिव कैसी है माँ ??? उर पत्नी कैसी है ??? कैस...</td>\n",
       "      <td>NAG</td>\n",
       "    </tr>\n",
       "    <tr>\n",
       "      <th>2</th>\n",
       "      <td>2</td>\n",
       "      <td>2</td>\n",
       "      <td>facebook_corpus_msr_331195</td>\n",
       "      <td>यह भी देखें .... बुर्खा में पकड़े गए RSS कार्य...</td>\n",
       "      <td>NAG</td>\n",
       "    </tr>\n",
       "    <tr>\n",
       "      <th>3</th>\n",
       "      <td>3</td>\n",
       "      <td>3</td>\n",
       "      <td>facebook_corpus_msr_403402</td>\n",
       "      <td>LOC CROSS में 2 जवानों की मौत पर हमारे H'BLE H...</td>\n",
       "      <td>NAG</td>\n",
       "    </tr>\n",
       "    <tr>\n",
       "      <th>4</th>\n",
       "      <td>4</td>\n",
       "      <td>4</td>\n",
       "      <td>facebook_corpus_msr_379239</td>\n",
       "      <td>मोदी हो ये मनमोहन सिंह साला ये लॉग कुच्छ न कर्...</td>\n",
       "      <td>OAG</td>\n",
       "    </tr>\n",
       "  </tbody>\n",
       "</table>\n",
       "</div>"
      ],
      "text/plain": [
       "   Unnamed: 0  Unnamed: 0.1                           0  \\\n",
       "0           0             0  facebook_corpus_msr_451811   \n",
       "1           1             1  facebook_corpus_msr_334368   \n",
       "2           2             2  facebook_corpus_msr_331195   \n",
       "3           3             3  facebook_corpus_msr_403402   \n",
       "4           4             4  facebook_corpus_msr_379239   \n",
       "\n",
       "                                                   1    2  \n",
       "0  फिर से बनाया की गुणवत्ता मुझे लगता है कि यह मछ...  CAG  \n",
       "1  @ शिव कैसी है माँ ??? उर पत्नी कैसी है ??? कैस...  NAG  \n",
       "2  यह भी देखें .... बुर्खा में पकड़े गए RSS कार्य...  NAG  \n",
       "3  LOC CROSS में 2 जवानों की मौत पर हमारे H'BLE H...  NAG  \n",
       "4  मोदी हो ये मनमोहन सिंह साला ये लॉग कुच्छ न कर्...  OAG  "
      ]
     },
     "execution_count": 138,
     "metadata": {},
     "output_type": "execute_result"
    }
   ],
   "source": [
    "df.head()"
   ]
  },
  {
   "cell_type": "code",
   "execution_count": 85,
   "metadata": {},
   "outputs": [
    {
     "data": {
      "text/plain": [
       "(3001, 3)"
      ]
     },
     "execution_count": 85,
     "metadata": {},
     "output_type": "execute_result"
    }
   ],
   "source": [
    "df.shape"
   ]
  },
  {
   "cell_type": "code",
   "execution_count": 87,
   "metadata": {},
   "outputs": [
    {
     "data": {
      "text/plain": [
       "NAG    1233\n",
       "CAG    1057\n",
       "OAG     711\n",
       "Name: 2, dtype: int64"
      ]
     },
     "execution_count": 87,
     "metadata": {},
     "output_type": "execute_result"
    }
   ],
   "source": [
    "df[2].value_counts()"
   ]
  },
  {
   "cell_type": "code",
   "execution_count": 88,
   "metadata": {},
   "outputs": [
    {
     "data": {
      "text/html": [
       "<div>\n",
       "<style scoped>\n",
       "    .dataframe tbody tr th:only-of-type {\n",
       "        vertical-align: middle;\n",
       "    }\n",
       "\n",
       "    .dataframe tbody tr th {\n",
       "        vertical-align: top;\n",
       "    }\n",
       "\n",
       "    .dataframe thead th {\n",
       "        text-align: right;\n",
       "    }\n",
       "</style>\n",
       "<table border=\"1\" class=\"dataframe\">\n",
       "  <thead>\n",
       "    <tr style=\"text-align: right;\">\n",
       "      <th></th>\n",
       "      <th>0</th>\n",
       "      <th>1</th>\n",
       "      <th>2</th>\n",
       "    </tr>\n",
       "  </thead>\n",
       "  <tbody>\n",
       "    <tr>\n",
       "      <th>0</th>\n",
       "      <td>facebook_corpus_msr_451811</td>\n",
       "      <td>The quality of re made now makes me think it i...</td>\n",
       "      <td>CAG</td>\n",
       "    </tr>\n",
       "    <tr>\n",
       "      <th>1</th>\n",
       "      <td>facebook_corpus_msr_334368</td>\n",
       "      <td>@siva \\nHow is ur mother???\\nHow is ur wife???...</td>\n",
       "      <td>NAG</td>\n",
       "    </tr>\n",
       "    <tr>\n",
       "      <th>2</th>\n",
       "      <td>facebook_corpus_msr_331195</td>\n",
       "      <td>Also see ....hw ur RSS activist caught in Burk...</td>\n",
       "      <td>NAG</td>\n",
       "    </tr>\n",
       "    <tr>\n",
       "      <th>3</th>\n",
       "      <td>facebook_corpus_msr_403402</td>\n",
       "      <td>On the death of 2 jawans in LOC CROSS FIRING\\n...</td>\n",
       "      <td>NAG</td>\n",
       "    </tr>\n",
       "    <tr>\n",
       "      <th>4</th>\n",
       "      <td>facebook_corpus_msr_379239</td>\n",
       "      <td>Modi ho ya Manmohan singh saala yeh log kuch n...</td>\n",
       "      <td>OAG</td>\n",
       "    </tr>\n",
       "    <tr>\n",
       "      <th>...</th>\n",
       "      <td>...</td>\n",
       "      <td>...</td>\n",
       "      <td>...</td>\n",
       "    </tr>\n",
       "    <tr>\n",
       "      <th>95</th>\n",
       "      <td>facebook_corpus_msr_443306</td>\n",
       "      <td>Don't mistake to judge any company ETHICAL bas...</td>\n",
       "      <td>CAG</td>\n",
       "    </tr>\n",
       "    <tr>\n",
       "      <th>96</th>\n",
       "      <td>facebook_corpus_msr_450594</td>\n",
       "      <td>The problem with opposition is that they don't...</td>\n",
       "      <td>CAG</td>\n",
       "    </tr>\n",
       "    <tr>\n",
       "      <th>97</th>\n",
       "      <td>facebook_corpus_msr_1956957</td>\n",
       "      <td>Always negative comments by Indian Express aga...</td>\n",
       "      <td>OAG</td>\n",
       "    </tr>\n",
       "    <tr>\n",
       "      <th>98</th>\n",
       "      <td>facebook_corpus_msr_2349542</td>\n",
       "      <td>Hasan atif ,check ur Quran ,ibn ishag992,wht i...</td>\n",
       "      <td>CAG</td>\n",
       "    </tr>\n",
       "    <tr>\n",
       "      <th>99</th>\n",
       "      <td>facebook_corpus_msr_2018484</td>\n",
       "      <td>Mr. Rohit...Meera is a grt lady undoubtedly......</td>\n",
       "      <td>CAG</td>\n",
       "    </tr>\n",
       "  </tbody>\n",
       "</table>\n",
       "<p>100 rows × 3 columns</p>\n",
       "</div>"
      ],
      "text/plain": [
       "                              0  \\\n",
       "0    facebook_corpus_msr_451811   \n",
       "1    facebook_corpus_msr_334368   \n",
       "2    facebook_corpus_msr_331195   \n",
       "3    facebook_corpus_msr_403402   \n",
       "4    facebook_corpus_msr_379239   \n",
       "..                          ...   \n",
       "95   facebook_corpus_msr_443306   \n",
       "96   facebook_corpus_msr_450594   \n",
       "97  facebook_corpus_msr_1956957   \n",
       "98  facebook_corpus_msr_2349542   \n",
       "99  facebook_corpus_msr_2018484   \n",
       "\n",
       "                                                    1    2  \n",
       "0   The quality of re made now makes me think it i...  CAG  \n",
       "1   @siva \\nHow is ur mother???\\nHow is ur wife???...  NAG  \n",
       "2   Also see ....hw ur RSS activist caught in Burk...  NAG  \n",
       "3   On the death of 2 jawans in LOC CROSS FIRING\\n...  NAG  \n",
       "4   Modi ho ya Manmohan singh saala yeh log kuch n...  OAG  \n",
       "..                                                ...  ...  \n",
       "95  Don't mistake to judge any company ETHICAL bas...  CAG  \n",
       "96  The problem with opposition is that they don't...  CAG  \n",
       "97  Always negative comments by Indian Express aga...  OAG  \n",
       "98  Hasan atif ,check ur Quran ,ibn ishag992,wht i...  CAG  \n",
       "99  Mr. Rohit...Meera is a grt lady undoubtedly......  CAG  \n",
       "\n",
       "[100 rows x 3 columns]"
      ]
     },
     "execution_count": 88,
     "metadata": {},
     "output_type": "execute_result"
    }
   ],
   "source": [
    "df.head(100)"
   ]
  },
  {
   "cell_type": "code",
   "execution_count": 89,
   "metadata": {},
   "outputs": [],
   "source": [
    "df[1] = df[1].str.strip()"
   ]
  },
  {
   "cell_type": "code",
   "execution_count": 90,
   "metadata": {},
   "outputs": [],
   "source": [
    "df = df.replace('\\n',' ', regex=True)"
   ]
  },
  {
   "cell_type": "code",
   "execution_count": 92,
   "metadata": {},
   "outputs": [],
   "source": [
    "# df.to_csv('eng_dev.csv')"
   ]
  },
  {
   "cell_type": "code",
   "execution_count": 93,
   "metadata": {},
   "outputs": [
    {
     "name": "stdout",
     "output_type": "stream",
     "text": [
      "यह भी देखें .... बुर्खा में पकड़े गए RSS कार्यकर्ता बुर्खा-क्लैड-आरएसएस-एक्टिविस्ट-पकड़ा-फेंक-बीफ-ए-मंदिर-चित्र-गो-वायरल-ऑन-फेसबुक -593154 / amp /\n",
      "\n"
     ]
    }
   ],
   "source": [
    "file1 = open(r'C:\\Users\\siddh\\OneDrive\\Desktop\\Minor Project\\eng_dev.txt', 'r',encoding=\"utf8\")\n",
    "Lines = file1.readlines()\n",
    "rows = []\n",
    "for line in Lines:\n",
    "    rows.append(line)\n",
    "print(rows[2])"
   ]
  },
  {
   "cell_type": "code",
   "execution_count": 94,
   "metadata": {},
   "outputs": [],
   "source": [
    "df2 = pd.DataFrame(rows,columns=['data'])"
   ]
  },
  {
   "cell_type": "code",
   "execution_count": 95,
   "metadata": {},
   "outputs": [
    {
     "data": {
      "text/plain": [
       "'America jaise big country 40 कैशलेस है और जो विकसित देश था। लेकिन हमारा भारत विकसित हो रहा है और मोदी जी कैशलेस हैगा बनाते हैं क्या यह संभव है !!!!\\n'"
      ]
     },
     "execution_count": 95,
     "metadata": {},
     "output_type": "execute_result"
    }
   ],
   "source": [
    "df2['data'][122]"
   ]
  },
  {
   "cell_type": "code",
   "execution_count": 96,
   "metadata": {},
   "outputs": [],
   "source": [
    "df2 = df2.replace('\\n',' ', regex=True)"
   ]
  },
  {
   "cell_type": "code",
   "execution_count": 97,
   "metadata": {},
   "outputs": [
    {
     "data": {
      "text/html": [
       "<div>\n",
       "<style scoped>\n",
       "    .dataframe tbody tr th:only-of-type {\n",
       "        vertical-align: middle;\n",
       "    }\n",
       "\n",
       "    .dataframe tbody tr th {\n",
       "        vertical-align: top;\n",
       "    }\n",
       "\n",
       "    .dataframe thead th {\n",
       "        text-align: right;\n",
       "    }\n",
       "</style>\n",
       "<table border=\"1\" class=\"dataframe\">\n",
       "  <thead>\n",
       "    <tr style=\"text-align: right;\">\n",
       "      <th></th>\n",
       "      <th>data</th>\n",
       "    </tr>\n",
       "  </thead>\n",
       "  <tbody>\n",
       "    <tr>\n",
       "      <th>0</th>\n",
       "      <td>फिर से बनाया की गुणवत्ता मुझे लगता है कि यह मछ...</td>\n",
       "    </tr>\n",
       "    <tr>\n",
       "      <th>1</th>\n",
       "      <td>@ शिव कैसी है माँ ??? उर पत्नी कैसी है ??? कैस...</td>\n",
       "    </tr>\n",
       "    <tr>\n",
       "      <th>2</th>\n",
       "      <td>यह भी देखें .... बुर्खा में पकड़े गए RSS कार्य...</td>\n",
       "    </tr>\n",
       "    <tr>\n",
       "      <th>3</th>\n",
       "      <td>LOC CROSS में 2 जवानों की मौत पर हमारे H'BLE H...</td>\n",
       "    </tr>\n",
       "    <tr>\n",
       "      <th>4</th>\n",
       "      <td>मोदी हो ये मनमोहन सिंह साला ये लॉग कुच्छ न कर्...</td>\n",
       "    </tr>\n",
       "    <tr>\n",
       "      <th>...</th>\n",
       "      <td>...</td>\n",
       "    </tr>\n",
       "    <tr>\n",
       "      <th>95</th>\n",
       "      <td>मीडिया रिपोर्ट के आधार पर किसी भी कंपनी ETHICA...</td>\n",
       "    </tr>\n",
       "    <tr>\n",
       "      <th>96</th>\n",
       "      <td>विरोध के साथ समस्या यह है कि वे कुछ भी नहीं कर...</td>\n",
       "    </tr>\n",
       "    <tr>\n",
       "      <th>97</th>\n",
       "      <td>हमेशा इंडियन एक्सप्रेस द्वारा बीजेपी के खिलाफ ...</td>\n",
       "    </tr>\n",
       "    <tr>\n",
       "      <th>98</th>\n",
       "      <td>हसन आतिफ, उर कुरान की जाँच करें, ibn ishag992,...</td>\n",
       "    </tr>\n",
       "    <tr>\n",
       "      <th>99</th>\n",
       "      <td>मिस्टर रोहित ... मीरा निस्संदेह एक जीआरटी महिल...</td>\n",
       "    </tr>\n",
       "  </tbody>\n",
       "</table>\n",
       "<p>100 rows × 1 columns</p>\n",
       "</div>"
      ],
      "text/plain": [
       "                                                 data\n",
       "0   फिर से बनाया की गुणवत्ता मुझे लगता है कि यह मछ...\n",
       "1   @ शिव कैसी है माँ ??? उर पत्नी कैसी है ??? कैस...\n",
       "2   यह भी देखें .... बुर्खा में पकड़े गए RSS कार्य...\n",
       "3   LOC CROSS में 2 जवानों की मौत पर हमारे H'BLE H...\n",
       "4   मोदी हो ये मनमोहन सिंह साला ये लॉग कुच्छ न कर्...\n",
       "..                                                ...\n",
       "95  मीडिया रिपोर्ट के आधार पर किसी भी कंपनी ETHICA...\n",
       "96  विरोध के साथ समस्या यह है कि वे कुछ भी नहीं कर...\n",
       "97  हमेशा इंडियन एक्सप्रेस द्वारा बीजेपी के खिलाफ ...\n",
       "98  हसन आतिफ, उर कुरान की जाँच करें, ibn ishag992,...\n",
       "99  मिस्टर रोहित ... मीरा निस्संदेह एक जीआरटी महिल...\n",
       "\n",
       "[100 rows x 1 columns]"
      ]
     },
     "execution_count": 97,
     "metadata": {},
     "output_type": "execute_result"
    }
   ],
   "source": [
    "df2.head(100)"
   ]
  },
  {
   "cell_type": "code",
   "execution_count": 98,
   "metadata": {},
   "outputs": [],
   "source": [
    "df[1] = df2['data']"
   ]
  },
  {
   "cell_type": "code",
   "execution_count": 99,
   "metadata": {},
   "outputs": [
    {
     "data": {
      "text/html": [
       "<div>\n",
       "<style scoped>\n",
       "    .dataframe tbody tr th:only-of-type {\n",
       "        vertical-align: middle;\n",
       "    }\n",
       "\n",
       "    .dataframe tbody tr th {\n",
       "        vertical-align: top;\n",
       "    }\n",
       "\n",
       "    .dataframe thead th {\n",
       "        text-align: right;\n",
       "    }\n",
       "</style>\n",
       "<table border=\"1\" class=\"dataframe\">\n",
       "  <thead>\n",
       "    <tr style=\"text-align: right;\">\n",
       "      <th></th>\n",
       "      <th>0</th>\n",
       "      <th>1</th>\n",
       "      <th>2</th>\n",
       "    </tr>\n",
       "  </thead>\n",
       "  <tbody>\n",
       "    <tr>\n",
       "      <th>0</th>\n",
       "      <td>facebook_corpus_msr_451811</td>\n",
       "      <td>फिर से बनाया की गुणवत्ता मुझे लगता है कि यह मछ...</td>\n",
       "      <td>CAG</td>\n",
       "    </tr>\n",
       "    <tr>\n",
       "      <th>1</th>\n",
       "      <td>facebook_corpus_msr_334368</td>\n",
       "      <td>@ शिव कैसी है माँ ??? उर पत्नी कैसी है ??? कैस...</td>\n",
       "      <td>NAG</td>\n",
       "    </tr>\n",
       "    <tr>\n",
       "      <th>2</th>\n",
       "      <td>facebook_corpus_msr_331195</td>\n",
       "      <td>यह भी देखें .... बुर्खा में पकड़े गए RSS कार्य...</td>\n",
       "      <td>NAG</td>\n",
       "    </tr>\n",
       "    <tr>\n",
       "      <th>3</th>\n",
       "      <td>facebook_corpus_msr_403402</td>\n",
       "      <td>LOC CROSS में 2 जवानों की मौत पर हमारे H'BLE H...</td>\n",
       "      <td>NAG</td>\n",
       "    </tr>\n",
       "    <tr>\n",
       "      <th>4</th>\n",
       "      <td>facebook_corpus_msr_379239</td>\n",
       "      <td>मोदी हो ये मनमोहन सिंह साला ये लॉग कुच्छ न कर्...</td>\n",
       "      <td>OAG</td>\n",
       "    </tr>\n",
       "    <tr>\n",
       "      <th>...</th>\n",
       "      <td>...</td>\n",
       "      <td>...</td>\n",
       "      <td>...</td>\n",
       "    </tr>\n",
       "    <tr>\n",
       "      <th>95</th>\n",
       "      <td>facebook_corpus_msr_443306</td>\n",
       "      <td>मीडिया रिपोर्ट के आधार पर किसी भी कंपनी ETHICA...</td>\n",
       "      <td>CAG</td>\n",
       "    </tr>\n",
       "    <tr>\n",
       "      <th>96</th>\n",
       "      <td>facebook_corpus_msr_450594</td>\n",
       "      <td>विरोध के साथ समस्या यह है कि वे कुछ भी नहीं कर...</td>\n",
       "      <td>CAG</td>\n",
       "    </tr>\n",
       "    <tr>\n",
       "      <th>97</th>\n",
       "      <td>facebook_corpus_msr_1956957</td>\n",
       "      <td>हमेशा इंडियन एक्सप्रेस द्वारा बीजेपी के खिलाफ ...</td>\n",
       "      <td>OAG</td>\n",
       "    </tr>\n",
       "    <tr>\n",
       "      <th>98</th>\n",
       "      <td>facebook_corpus_msr_2349542</td>\n",
       "      <td>हसन आतिफ, उर कुरान की जाँच करें, ibn ishag992,...</td>\n",
       "      <td>CAG</td>\n",
       "    </tr>\n",
       "    <tr>\n",
       "      <th>99</th>\n",
       "      <td>facebook_corpus_msr_2018484</td>\n",
       "      <td>मिस्टर रोहित ... मीरा निस्संदेह एक जीआरटी महिल...</td>\n",
       "      <td>CAG</td>\n",
       "    </tr>\n",
       "  </tbody>\n",
       "</table>\n",
       "<p>100 rows × 3 columns</p>\n",
       "</div>"
      ],
      "text/plain": [
       "                              0  \\\n",
       "0    facebook_corpus_msr_451811   \n",
       "1    facebook_corpus_msr_334368   \n",
       "2    facebook_corpus_msr_331195   \n",
       "3    facebook_corpus_msr_403402   \n",
       "4    facebook_corpus_msr_379239   \n",
       "..                          ...   \n",
       "95   facebook_corpus_msr_443306   \n",
       "96   facebook_corpus_msr_450594   \n",
       "97  facebook_corpus_msr_1956957   \n",
       "98  facebook_corpus_msr_2349542   \n",
       "99  facebook_corpus_msr_2018484   \n",
       "\n",
       "                                                    1    2  \n",
       "0   फिर से बनाया की गुणवत्ता मुझे लगता है कि यह मछ...  CAG  \n",
       "1   @ शिव कैसी है माँ ??? उर पत्नी कैसी है ??? कैस...  NAG  \n",
       "2   यह भी देखें .... बुर्खा में पकड़े गए RSS कार्य...  NAG  \n",
       "3   LOC CROSS में 2 जवानों की मौत पर हमारे H'BLE H...  NAG  \n",
       "4   मोदी हो ये मनमोहन सिंह साला ये लॉग कुच्छ न कर्...  OAG  \n",
       "..                                                ...  ...  \n",
       "95  मीडिया रिपोर्ट के आधार पर किसी भी कंपनी ETHICA...  CAG  \n",
       "96  विरोध के साथ समस्या यह है कि वे कुछ भी नहीं कर...  CAG  \n",
       "97  हमेशा इंडियन एक्सप्रेस द्वारा बीजेपी के खिलाफ ...  OAG  \n",
       "98  हसन आतिफ, उर कुरान की जाँच करें, ibn ishag992,...  CAG  \n",
       "99  मिस्टर रोहित ... मीरा निस्संदेह एक जीआरटी महिल...  CAG  \n",
       "\n",
       "[100 rows x 3 columns]"
      ]
     },
     "execution_count": 99,
     "metadata": {},
     "output_type": "execute_result"
    }
   ],
   "source": [
    "df.head(100)"
   ]
  },
  {
   "cell_type": "code",
   "execution_count": 139,
   "metadata": {},
   "outputs": [],
   "source": [
    "df2 = pd.read_csv(r'C:\\Users\\siddh\\OneDrive\\Desktop\\Minor Project\\final_hi_dev.csv')"
   ]
  },
  {
   "cell_type": "code",
   "execution_count": 140,
   "metadata": {},
   "outputs": [
    {
     "data": {
      "text/html": [
       "<div>\n",
       "<style scoped>\n",
       "    .dataframe tbody tr th:only-of-type {\n",
       "        vertical-align: middle;\n",
       "    }\n",
       "\n",
       "    .dataframe tbody tr th {\n",
       "        vertical-align: top;\n",
       "    }\n",
       "\n",
       "    .dataframe thead th {\n",
       "        text-align: right;\n",
       "    }\n",
       "</style>\n",
       "<table border=\"1\" class=\"dataframe\">\n",
       "  <thead>\n",
       "    <tr style=\"text-align: right;\">\n",
       "      <th></th>\n",
       "      <th>Unnamed: 0</th>\n",
       "      <th>0</th>\n",
       "      <th>1</th>\n",
       "      <th>2</th>\n",
       "    </tr>\n",
       "  </thead>\n",
       "  <tbody>\n",
       "    <tr>\n",
       "      <th>0</th>\n",
       "      <td>0</td>\n",
       "      <td>facebook_corpus_msr_333008</td>\n",
       "      <td>RANDTV तूम्हारे नजायज बाप है एरिया है का वहा क...</td>\n",
       "      <td>OAG</td>\n",
       "    </tr>\n",
       "    <tr>\n",
       "      <th>1</th>\n",
       "      <td>1</td>\n",
       "      <td>facebook_corpus_msr_690306</td>\n",
       "      <td>पहिली अवस्था बराबर दु जूटे खाये ग्रोवर से</td>\n",
       "      <td>OAG</td>\n",
       "    </tr>\n",
       "    <tr>\n",
       "      <th>2</th>\n",
       "      <td>2</td>\n",
       "      <td>facebook_corpus_msr_382520</td>\n",
       "      <td>Salman aur aamir ki kounsi movie release huyee...</td>\n",
       "      <td>OAG</td>\n",
       "    </tr>\n",
       "    <tr>\n",
       "      <th>3</th>\n",
       "      <td>3</td>\n",
       "      <td>facebook_corpus_msr_401748</td>\n",
       "      <td>Wk aur bhakt आ गया। अबे अमरीकंस का बोलना h ki ...</td>\n",
       "      <td>CAG</td>\n",
       "    </tr>\n",
       "    <tr>\n",
       "      <th>4</th>\n",
       "      <td>4</td>\n",
       "      <td>facebook_corpus_msr_656339</td>\n",
       "      <td>बीटा टू तू अप्प बाप का है ... तूं मँग वो लया अ...</td>\n",
       "      <td>NAG</td>\n",
       "    </tr>\n",
       "  </tbody>\n",
       "</table>\n",
       "</div>"
      ],
      "text/plain": [
       "   Unnamed: 0                           0  \\\n",
       "0           0  facebook_corpus_msr_333008   \n",
       "1           1  facebook_corpus_msr_690306   \n",
       "2           2  facebook_corpus_msr_382520   \n",
       "3           3  facebook_corpus_msr_401748   \n",
       "4           4  facebook_corpus_msr_656339   \n",
       "\n",
       "                                                   1    2  \n",
       "0  RANDTV तूम्हारे नजायज बाप है एरिया है का वहा क...  OAG  \n",
       "1         पहिली अवस्था बराबर दु जूटे खाये ग्रोवर से   OAG  \n",
       "2  Salman aur aamir ki kounsi movie release huyee...  OAG  \n",
       "3  Wk aur bhakt आ गया। अबे अमरीकंस का बोलना h ki ...  CAG  \n",
       "4  बीटा टू तू अप्प बाप का है ... तूं मँग वो लया अ...  NAG  "
      ]
     },
     "execution_count": 140,
     "metadata": {},
     "output_type": "execute_result"
    }
   ],
   "source": [
    "df2.head()"
   ]
  },
  {
   "cell_type": "code",
   "execution_count": 142,
   "metadata": {},
   "outputs": [],
   "source": [
    "df2.to_excel('FinalHiDev.xlsx')"
   ]
  }
 ],
 "metadata": {
  "kernelspec": {
   "display_name": "Python 3",
   "language": "python",
   "name": "python3"
  },
  "language_info": {
   "codemirror_mode": {
    "name": "ipython",
    "version": 3
   },
   "file_extension": ".py",
   "mimetype": "text/x-python",
   "name": "python",
   "nbconvert_exporter": "python",
   "pygments_lexer": "ipython3",
   "version": "3.8.5"
  }
 },
 "nbformat": 4,
 "nbformat_minor": 4
}
